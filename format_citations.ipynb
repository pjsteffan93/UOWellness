{
 "cells": [
  {
   "cell_type": "code",
   "execution_count": 1,
   "metadata": {},
   "outputs": [],
   "source": [
    "from openai import OpenAI\n",
    "from dotenv import load_dotenv\n",
    "from openai import OpenAI\n",
    "from openai.types.beta.assistant_stream_event import ThreadMessageDelta\n",
    "from openai.types.beta.threads.text_delta_block import TextDeltaBlock \n",
    "import os\n",
    "import pandas as pd"
   ]
  },
  {
   "cell_type": "code",
   "execution_count": 2,
   "metadata": {},
   "outputs": [],
   "source": [
    "df_scrape = pd.read_pickle('/app/Store/dataframe.pkl')\n",
    "df_asst = pd.read_csv('/app/Store/assistant_files.csv')\n",
    "df_asst.rename(columns={'filename': 'file_path'}, inplace=True)\n",
    "\n",
    "# Merging on the common column 'key'\n",
    "df_merge = pd.merge(df_scrape, df_asst, on='file_path', how='inner')\n",
    "\n"
   ]
  },
  {
   "cell_type": "code",
   "execution_count": 3,
   "metadata": {},
   "outputs": [],
   "source": [
    "result = df_merge[df_merge[\"file_id\"]=='file-DmxSHWuwRB5jv7aWD32V7b']\n",
    "citation_url = result['url'][0]"
   ]
  },
  {
   "cell_type": "code",
   "execution_count": 4,
   "metadata": {},
   "outputs": [],
   "source": [
    "load_dotenv('/app/.env')\n",
    "\n",
    "OPENAI_API_KEY = os.environ[\"OPENAI_API_KEY\"]\n",
    "\n",
    "\n",
    "def get_asst_by_name(client,name):\n",
    "    l = client.beta.assistants.list()\n",
    "    for asst in l:\n",
    "        asst_dict = asst.to_dict()\n",
    "        if asst_dict[\"name\"] == name:\n",
    "            return asst_dict[\"id\"]\n",
    "        \n",
    "    return None\n",
    "        \n",
    "# Initialise the OpenAI client, and retrieve the assistant\n",
    "client = OpenAI(api_key=OPENAI_API_KEY)\n",
    "assistant = client.beta.assistants.retrieve(assistant_id=\"asst_WvxFY77dyhKaV6ei809wTfye\")"
   ]
  },
  {
   "cell_type": "code",
   "execution_count": 5,
   "metadata": {},
   "outputs": [],
   "source": [
    "user_query = 'What are some ways that I can learn about meditation?'\n",
    "\n",
    "\n",
    "\n",
    "run = client.beta.threads.create_and_run_poll(\n",
    "  assistant_id=\"asst_WvxFY77dyhKaV6ei809wTfye\",\n",
    "  thread={\n",
    "    \"messages\": [\n",
    "      {\"role\": \"user\", \"content\": user_query}\n",
    "    ]\n",
    "  },\n",
    "  tool_choice=\"required\"\n",
    ")\n",
    "\n",
    "\n",
    "\n"
   ]
  },
  {
   "cell_type": "code",
   "execution_count": 6,
   "metadata": {},
   "outputs": [],
   "source": [
    "thread_messages = client.beta.threads.messages.list(run.thread_id)"
   ]
  },
  {
   "cell_type": "code",
   "execution_count": 7,
   "metadata": {},
   "outputs": [
    {
     "name": "stdout",
     "output_type": "stream",
     "text": [
      "SyncCursorPage[Message](data=[Message(id='msg_pS1iI3AKSbimg7N5tzeqYHh3', assistant_id='asst_WvxFY77dyhKaV6ei809wTfye', attachments=[], completed_at=None, content=[TextContentBlock(text=Text(annotations=[FileCitationAnnotation(end_index=559, file_citation=FileCitation(file_id='file-F8ec6VTMZo9WxFuSj5LUh4'), start_index=547, text='【4:2†source】', type='file_citation'), FileCitationAnnotation(end_index=886, file_citation=FileCitation(file_id='file-25EnyP9GxDFbVhTMq8T2EM'), start_index=874, text='【4:0†source】', type='file_citation'), FileCitationAnnotation(end_index=898, file_citation=FileCitation(file_id='file-25EnyP9GxDFbVhTMq8T2EM'), start_index=886, text='【4:1†source】', type='file_citation'), FileCitationAnnotation(end_index=1099, file_citation=FileCitation(file_id='file-25EnyP9GxDFbVhTMq8T2EM'), start_index=1087, text='【4:1†source】', type='file_citation'), FileCitationAnnotation(end_index=1112, file_citation=FileCitation(file_id='file-25EnyP9GxDFbVhTMq8T2EM'), start_index=1099, text='【4:19†source】', type='file_citation'), FileCitationAnnotation(end_index=1397, file_citation=FileCitation(file_id='file-GynE98zpGD5UMVNsU7pf7g'), start_index=1385, text='【4:3†source】', type='file_citation'), FileCitationAnnotation(end_index=1645, file_citation=FileCitation(file_id='file-PHMFjQJNtQqAmSqpVNiQ6p'), start_index=1632, text='【4:10†source】', type='file_citation')], value='You\\'re looking for ways to learn about meditation, which is a fantastic pursuit for enhancing your well-being! Here are several resources and opportunities available at the University of Oregon that can help you get started:\\n\\n1. **Duck Nest Wellness Center**: The Duck Nest offers **Meditation Mondays**, which are student-led meditation sessions. These workshops provide a welcoming environment to explore various meditation practices. Sessions are held every Tuesday from 4:00 PM to 4:30 PM at EMU 041. You can drop in without prior registration【4:2†source】.\\n\\n2. **Mindfulness Video Playlist**: University Counseling Services has created a Mindfulness Video Playlist that includes instructional videos on different mindfulness practices. Topics covered include \"Introduction to Mindfulness,\" \"Grounding in the Breath,\" \"Grounding in the Body,\" and \"Grounding in Gratitude\"【4:0†source】【4:1†source】.\\n\\n3. **WellTrack App**: This mobile application features a component called \"The Zen Room,\" which is designed to help you clear your mind and engage in mindfulness and meditation practices【4:1†source】【4:19†source】. \\n\\n4. **Mindful Student Course**: You can also register for the **UGST 199: Mindful Student** course, which focuses on mindfulness meditation and its strategies for success in university life. This course provides academic credit while equipping you with meditation skills【4:3†source】.\\n\\n5. **Healthy Campus Week**: An annual event, Healthy Campus Week, typically includes activities like a **meditation retreat** focused on incorporating meditation into sleep hygiene. This is a great opportunity for immersive learning【4:10†source】.\\n\\nBy engaging with these resources and activities, you can explore various meditation techniques and find what resonates best with you. If you have any further questions or need support, don\\'t hesitate to reach out!'), type='text')], created_at=1745641060, incomplete_at=None, incomplete_details=None, metadata={}, object='thread.message', role='assistant', run_id='run_kea4uGPZAZsVjiftjbVXibeF', status=None, thread_id='thread_yLmVBvdJN2LfTSDVBytQTMiu'), Message(id='msg_t6VKt5mEOx5EmVYR1MW1DZcv', assistant_id=None, attachments=[], completed_at=None, content=[TextContentBlock(text=Text(annotations=[], value='What are some ways that I can learn about meditation?'), type='text')], created_at=1745641055, incomplete_at=None, incomplete_details=None, metadata={}, object='thread.message', role='user', run_id=None, status=None, thread_id='thread_yLmVBvdJN2LfTSDVBytQTMiu')], has_more=False, object='list', first_id='msg_pS1iI3AKSbimg7N5tzeqYHh3', last_id='msg_t6VKt5mEOx5EmVYR1MW1DZcv')\n"
     ]
    }
   ],
   "source": [
    "print(thread_messages)"
   ]
  },
  {
   "cell_type": "code",
   "execution_count": 8,
   "metadata": {},
   "outputs": [],
   "source": [
    "id = thread_messages.data[0].id"
   ]
  },
  {
   "cell_type": "code",
   "execution_count": 9,
   "metadata": {},
   "outputs": [],
   "source": [
    "# Retrieve the message object\n",
    "message = client.beta.threads.messages.retrieve(\n",
    "  thread_id=run.thread_id,\n",
    "  message_id=id\n",
    ")\n"
   ]
  },
  {
   "cell_type": "code",
   "execution_count": 10,
   "metadata": {},
   "outputs": [
    {
     "name": "stdout",
     "output_type": "stream",
     "text": [
      "Text(annotations=[FileCitationAnnotation(end_index=559, file_citation=FileCitation(file_id='file-F8ec6VTMZo9WxFuSj5LUh4'), start_index=547, text='【4:2†source】', type='file_citation'), FileCitationAnnotation(end_index=886, file_citation=FileCitation(file_id='file-25EnyP9GxDFbVhTMq8T2EM'), start_index=874, text='【4:0†source】', type='file_citation'), FileCitationAnnotation(end_index=898, file_citation=FileCitation(file_id='file-25EnyP9GxDFbVhTMq8T2EM'), start_index=886, text='【4:1†source】', type='file_citation'), FileCitationAnnotation(end_index=1099, file_citation=FileCitation(file_id='file-25EnyP9GxDFbVhTMq8T2EM'), start_index=1087, text='【4:1†source】', type='file_citation'), FileCitationAnnotation(end_index=1112, file_citation=FileCitation(file_id='file-25EnyP9GxDFbVhTMq8T2EM'), start_index=1099, text='【4:19†source】', type='file_citation'), FileCitationAnnotation(end_index=1397, file_citation=FileCitation(file_id='file-GynE98zpGD5UMVNsU7pf7g'), start_index=1385, text='【4:3†source】', type='file_citation'), FileCitationAnnotation(end_index=1645, file_citation=FileCitation(file_id='file-PHMFjQJNtQqAmSqpVNiQ6p'), start_index=1632, text='【4:10†source】', type='file_citation')], value='You\\'re looking for ways to learn about meditation, which is a fantastic pursuit for enhancing your well-being! Here are several resources and opportunities available at the University of Oregon that can help you get started:\\n\\n1. **Duck Nest Wellness Center**: The Duck Nest offers **Meditation Mondays**, which are student-led meditation sessions. These workshops provide a welcoming environment to explore various meditation practices. Sessions are held every Tuesday from 4:00 PM to 4:30 PM at EMU 041. You can drop in without prior registration【4:2†source】.\\n\\n2. **Mindfulness Video Playlist**: University Counseling Services has created a Mindfulness Video Playlist that includes instructional videos on different mindfulness practices. Topics covered include \"Introduction to Mindfulness,\" \"Grounding in the Breath,\" \"Grounding in the Body,\" and \"Grounding in Gratitude\"【4:0†source】【4:1†source】.\\n\\n3. **WellTrack App**: This mobile application features a component called \"The Zen Room,\" which is designed to help you clear your mind and engage in mindfulness and meditation practices【4:1†source】【4:19†source】. \\n\\n4. **Mindful Student Course**: You can also register for the **UGST 199: Mindful Student** course, which focuses on mindfulness meditation and its strategies for success in university life. This course provides academic credit while equipping you with meditation skills【4:3†source】.\\n\\n5. **Healthy Campus Week**: An annual event, Healthy Campus Week, typically includes activities like a **meditation retreat** focused on incorporating meditation into sleep hygiene. This is a great opportunity for immersive learning【4:10†source】.\\n\\nBy engaging with these resources and activities, you can explore various meditation techniques and find what resonates best with you. If you have any further questions or need support, don\\'t hesitate to reach out!')\n"
     ]
    }
   ],
   "source": [
    "print(message.content[0].text)"
   ]
  },
  {
   "cell_type": "markdown",
   "metadata": {},
   "source": []
  },
  {
   "cell_type": "code",
   "execution_count": 11,
   "metadata": {},
   "outputs": [
    {
     "name": "stdout",
     "output_type": "stream",
     "text": [
      "True\n",
      "False\n"
     ]
    }
   ],
   "source": [
    "def get_name_by_file_id(df_merge,file_id):\n",
    "    result = df_merge[df_merge[\"file_id\"]==file_id]\n",
    "    citation_url = result['url'].values[0]\n",
    "    return citation_url\n",
    "\n",
    "from urllib.parse import urlparse\n",
    "\n",
    "def is_valid_url(url):\n",
    "    try:\n",
    "        result = urlparse(url)\n",
    "        return all([result.scheme, result.netloc])\n",
    "    except ValueError:\n",
    "        return False\n",
    "\n",
    "# Example usage:\n",
    "test_url = \"https://www.example.com\"\n",
    "print(is_valid_url(test_url))  # Output: True\n",
    "\n",
    "invalid_url = \"not_a_url\"\n",
    "print(is_valid_url(invalid_url))  # Output: False"
   ]
  },
  {
   "cell_type": "code",
   "execution_count": 12,
   "metadata": {},
   "outputs": [
    {
     "name": "stdout",
     "output_type": "stream",
     "text": [
      "You're looking for ways to learn about meditation, which is a fantastic pursuit for enhancing your well-being! Here are several resources and opportunities available at the University of Oregon that can help you get started:\n",
      "\n",
      "1. **Duck Nest Wellness Center**: The Duck Nest offers **Meditation Mondays**, which are student-led meditation sessions. These workshops provide a welcoming environment to explore various meditation practices. Sessions are held every Tuesday from 4:00 PM to 4:30 PM at EMU 041. You can drop in without prior registration【4:2†source】.\n",
      "\n",
      "2. **Mindfulness Video Playlist**: University Counseling Services has created a Mindfulness Video Playlist that includes instructional videos on different mindfulness practices. Topics covered include \"Introduction to Mindfulness,\" \"Grounding in the Breath,\" \"Grounding in the Body,\" and \"Grounding in Gratitude\"【4:0†source】【4:1†source】.\n",
      "\n",
      "3. **WellTrack App**: This mobile application features a component called \"The Zen Room,\" which is designed to help you clear your mind and engage in mindfulness and meditation practices【4:1†source】【4:19†source】. \n",
      "\n",
      "4. **Mindful Student Course**: You can also register for the **UGST 199: Mindful Student** course, which focuses on mindfulness meditation and its strategies for success in university life. This course provides academic credit while equipping you with meditation skills【4:3†source】.\n",
      "\n",
      "5. **Healthy Campus Week**: An annual event, Healthy Campus Week, typically includes activities like a **meditation retreat** focused on incorporating meditation into sleep hygiene. This is a great opportunity for immersive learning【4:10†source】.\n",
      "\n",
      "By engaging with these resources and activities, you can explore various meditation techniques and find what resonates best with you. If you have any further questions or need support, don't hesitate to reach out!\n"
     ]
    }
   ],
   "source": [
    "# Extract the message content\n",
    "message_content = message.content[0].text.model_copy()\n",
    "print(message_content.value)"
   ]
  },
  {
   "cell_type": "code",
   "execution_count": null,
   "metadata": {},
   "outputs": [],
   "source": []
  },
  {
   "cell_type": "code",
   "execution_count": 13,
   "metadata": {},
   "outputs": [],
   "source": [
    "# Extract the message content\n",
    "message_content = message.content[0].text.model_copy()\n",
    "annotations = message_content.annotations\n",
    "citations = pd.DataFrame()\n",
    "cite_idx = 1\n",
    "\n",
    "# Iterate over the annotations and add footnotes\n",
    "for index, annotation in enumerate(annotations):\n",
    "\n",
    "    \n",
    "    if annotation.file_citation.file_id not in [row['file_id'] for _, row in citations.iterrows()]:\n",
    "\n",
    "       this_citation = pd.DataFrame({'original': annotation.text, 'numeric': cite_idx, 'file_id': annotation.file_citation.file_id}, index = [0]) #Need to make these Pandas Dataframes!!\n",
    "       citations = pd.concat([citations,this_citation],axis=0, ignore_index=True)\n",
    "       cite_idx = cite_idx + 1\n",
    "\n",
    "    else: \n",
    "      prev_indices = citations.index[citations['file_id'] == annotation.file_citation.file_id].to_list()\n",
    "      prev_entry = citations.iloc[prev_indices[0]]\n",
    "      same_cite = pd.DataFrame({'original': annotation.text, 'numeric': prev_entry['numeric'], 'file_id': annotation.file_citation.file_id},index=[0])\n",
    "      citations = pd.concat([citations,same_cite],axis=0, ignore_index=True)\n",
    "       \n",
    "\n",
    "for index, citation in citations.iterrows():\n",
    "\n",
    "    original = citation['original']\n",
    "    numeric = citation['numeric']\n",
    "\n",
    "    this_url =  get_name_by_file_id(df_merge,citation['file_id'])\n",
    "\n",
    "    # Replace the text with a footnote\n",
    "    message_content.value = message_content.value.replace(original, f' [Source {numeric}]({this_url})')\n",
    "\n",
    "\n",
    "\n",
    "\n",
    "\n",
    "    \n",
    "    \n",
    "\n"
   ]
  },
  {
   "cell_type": "code",
   "execution_count": 14,
   "metadata": {},
   "outputs": [
    {
     "name": "stdout",
     "output_type": "stream",
     "text": [
      "You're looking for ways to learn about meditation, which is a fantastic pursuit for enhancing your well-being! Here are several resources and opportunities available at the University of Oregon that can help you get started:\n",
      "\n",
      "1. **Duck Nest Wellness Center**: The Duck Nest offers **Meditation Mondays**, which are student-led meditation sessions. These workshops provide a welcoming environment to explore various meditation practices. Sessions are held every Tuesday from 4:00 PM to 4:30 PM at EMU 041. You can drop in without prior registration [Source 1](https://counseling.uoregon.edu/mham).\n",
      "\n",
      "2. **Mindfulness Video Playlist**: University Counseling Services has created a Mindfulness Video Playlist that includes instructional videos on different mindfulness practices. Topics covered include \"Introduction to Mindfulness,\" \"Grounding in the Breath,\" \"Grounding in the Body,\" and \"Grounding in Gratitude\" [Source 2](https://counseling.uoregon.edu/copingstrategies) [Source 2](https://counseling.uoregon.edu/copingstrategies).\n",
      "\n",
      "3. **WellTrack App**: This mobile application features a component called \"The Zen Room,\" which is designed to help you clear your mind and engage in mindfulness and meditation practices [Source 2](https://counseling.uoregon.edu/copingstrategies) [Source 2](https://counseling.uoregon.edu/copingstrategies). \n",
      "\n",
      "4. **Mindful Student Course**: You can also register for the **UGST 199: Mindful Student** course, which focuses on mindfulness meditation and its strategies for success in university life. This course provides academic credit while equipping you with meditation skills [Source 3](https://engage.uoregon.edu/courses/).\n",
      "\n",
      "5. **Healthy Campus Week**: An annual event, Healthy Campus Week, typically includes activities like a **meditation retreat** focused on incorporating meditation into sleep hygiene. This is a great opportunity for immersive learning [Source 4](https://health.uoregon.edu/healthy-campus-week).\n",
      "\n",
      "By engaging with these resources and activities, you can explore various meditation techniques and find what resonates best with you. If you have any further questions or need support, don't hesitate to reach out!\n"
     ]
    }
   ],
   "source": [
    "print(message_content.value)"
   ]
  },
  {
   "cell_type": "code",
   "execution_count": 31,
   "metadata": {},
   "outputs": [
    {
     "name": "stdout",
     "output_type": "stream",
     "text": [
      "Processed markdown string without adjacent duplicate links:\n",
      "You're interested in ways to learn about meditation! There are several valuable resources and opportunities available for you at the University of Oregon that can help you explore and develop your meditation practice.\n",
      "\n",
      "1. **Mindfulness Resources**: The University Counseling Services has a Mindfulness Video Playlist that includes instructional videos on various mindfulness techniques, such as grounding in the breath and body, and mindfulness in daily activities [Source 1](https://counseling.uoregon.edu/copingstrategies).\n",
      "\n",
      "2. **Apps and Online Resources**: You can explore popular meditation and mindfulness apps like Headspace, Calm, and WellTrack, which includes a tool called the Zen Room to help you clear your mind and relax [Source 2](https://counseling.uoregon.edu/mham).\n",
      "\n",
      "3. **Meditation Workshops**: \n",
      "   - The Duck Nest Wellness Center offers **Meditation Mondays**, which are student-led meditation sessions that take place in the Erb Memorial Union (EMU). This can be a great space to explore different meditation practices, whether you're new to meditation or looking to deepen your practice [Source 3](https://health.uoregon.edu/healthy-campus-week) [Source 4](https://engage.uoregon.edu/courses/). \n",
      "   - Additionally, during Healthy Campus Week, there are special events like a meditation retreat focused on improving sleep through meditation [Source 3](https://health.uoregon.edu/healthy-campus-week).\n",
      "\n",
      "4. **Courses**: You can enroll in the UGST 199: Mindful Student course that teaches mindfulness meditation and helps connect those practices with strategies for academic success [Source 1](https://counseling.uoregon.edu/copingstrategies) \n"
     ]
    }
   ],
   "source": [
    "import re\n",
    "\n",
    "def remove_adjacent_duplicate_links(markdown_string):\n",
    "    # Define a regex pattern for markdown links\n",
    "    markdown_link_pattern = r'\\[.*?\\]\\(.*?\\)'\n",
    "\n",
    "    # Find all markdown links in the string\n",
    "    all_links = re.findall(markdown_link_pattern, markdown_string)\n",
    "\n",
    "    # Initialize an empty list to hold the processed links\n",
    "    processed_links = []\n",
    "\n",
    "    previous_link = None\n",
    "\n",
    "    for link in all_links:\n",
    "        if link != previous_link:\n",
    "            processed_links.append(link)\n",
    "        previous_link = link\n",
    "\n",
    "    # Reconstruct the string with the processed links\n",
    "    # Split the original text by the markdown pattern\n",
    "    parts = re.split(markdown_link_pattern, markdown_string)\n",
    "\n",
    "    # Interleave the text parts with the processed links\n",
    "    result = parts[0]\n",
    "    for link, part in zip(processed_links, parts[1:]):\n",
    "        result += link + part\n",
    "\n",
    "    return result\n",
    "\n",
    "# Simulate some markdown input\n",
    "\n",
    "\n",
    "# Remove adjacent duplicate links\n",
    "cleaned_markdown_string = remove_adjacent_duplicate_links(message_content.value)\n",
    "\n",
    "print(\"Processed markdown string without adjacent duplicate links:\")\n",
    "print(cleaned_markdown_string)"
   ]
  },
  {
   "cell_type": "code",
   "execution_count": 30,
   "metadata": {},
   "outputs": [
    {
     "name": "stdout",
     "output_type": "stream",
     "text": [
      "You're interested in ways to learn about meditation! There are several valuable resources and opportunities available for you at the University of Oregon that can help you explore and develop your meditation practice.\n",
      "\n",
      "1. **Mindfulness Resources**: The University Counseling Services has a Mindfulness Video Playlist that includes instructional videos on various mindfulness techniques, such as grounding in the breath and body, and mindfulness in daily activities [Source 1](https://counseling.uoregon.edu/copingstrategies).\n",
      "\n",
      "2. **Apps and Online Resources**: You can explore popular meditation and mindfulness apps like Headspace, Calm, and WellTrack, which includes a tool called the Zen Room to help you clear your mind and relax [Source 1](https://counseling.uoregon.edu/copingstrategies).\n",
      "\n",
      "3. **Meditation Workshops**: \n",
      "   - The Duck Nest Wellness Center offers **Meditation Mondays**, which are student-led meditation sessions that take place in the Erb Memorial Union (EMU). This can be a great space to explore different meditation practices, whether you're new to meditation or looking to deepen your practice [Source 2](https://counseling.uoregon.edu/mham) [Source 2](https://counseling.uoregon.edu/mham). \n",
      "   - Additionally, during Healthy Campus Week, there are special events like a meditation retreat focused on improving sleep through meditation [Source 3](https://health.uoregon.edu/healthy-campus-week).\n",
      "\n",
      "4. **Courses**: You can enroll in the UGST 199: Mindful Student course that teaches mindfulness meditation and helps connect those practices with strategies for academic success [Source 4](https://engage.uoregon.edu/courses/) [Source 3](https://health.uoregon.edu/healthy-campus-week).\n",
      "\n",
      "5. **Community Events**: Various workshops and events in places like the Duck Nest offer opportunities for drop-in sessions, where you can practice and learn about mindfulness in a supportive group setting [Source 1](https://counseling.uoregon.edu/copingstrategies).\n",
      "\n",
      "Overall, these resources provide a wide range of options for you to learn about meditation and incorporate mindfulness into your daily life. It's wonderful that you're taking this step towards exploring wellness! If you have any specific questions or want to dive deeper into any of these options, feel free to ask.\n"
     ]
    }
   ],
   "source": [
    "print(message_content.value)"
   ]
  },
  {
   "cell_type": "code",
   "execution_count": null,
   "metadata": {},
   "outputs": [],
   "source": [
    "#Upload txt files \n",
    "\n",
    "#Upload "
   ]
  },
  {
   "cell_type": "code",
   "execution_count": 16,
   "metadata": {},
   "outputs": [],
   "source": [
    "\n",
    "# Extract the message content\n",
    "message_content = message.content[0].text\n",
    "annotations = message_content.annotations\n",
    "citations = []\n",
    "\n",
    "# Iterate over the annotations and add footnotes\n",
    "for index, annotation in enumerate(annotations):\n",
    "    # Replace the text with a footnote\n",
    "    message_content.value = message_content.value.replace(annotation.text, f' [{index+1}]')\n",
    "    \n",
    "    #Get the File ID for the file in this citation\n",
    "    file_id = annotation.file_citation.file_id\n",
    "\n",
    "    #Find the URL or source for the file_id that OpenAI has\n",
    "    citation = get_name_by_file_id(df_merge,file_id)\n",
    "\n",
    "    # Add the citation to the list\n",
    "    citations.append(f'[{index+1}] {citation}')\n",
    "\n",
    "# Add footnotes to the end of the message before displaying to user\n",
    "message_content.value += '\\n' + '\\n' + 'Sources' + '\\n' + '\\n'.join(citations)"
   ]
  },
  {
   "cell_type": "code",
   "execution_count": 17,
   "metadata": {},
   "outputs": [
    {
     "name": "stdout",
     "output_type": "stream",
     "text": [
      "You asked about Lauren Eichler. She is the Assistant Director for Advisor Education and Training in the Office of Academic Advising at the University of Oregon.\n",
      "\n",
      "Lauren Eichler has an academic background that includes a PhD in Philosophy from the University of Oregon. Her research interests span several fields, including environmental ethics, genocide studies, Native American philosophies, and ethics in general. Before her current role, she taught philosophy at Old Dominion University, where she also served as the Director of Assessment for the Department of Philosophy and Religious Studies.\n",
      "\n",
      "Eichler is deeply committed to academic advising and mentoring students, emphasizing the importance of liberal arts education and its impact on individuals and society. Her personal experiences and fondness for the UO community led her to return to the university, where she aims to make a meaningful contribution to student development [1].\n",
      "[1] https://advising.uoregon.edu/-lauren-eichler\n",
      "Sources\n",
      "[1] https://advising.uoregon.edu/-lauren-eichler\n",
      "\n",
      "Sources\n",
      "[1] https://advising.uoregon.edu/-lauren-eichler\n"
     ]
    }
   ],
   "source": [
    "print(message_content.value)"
   ]
  },
  {
   "cell_type": "code",
   "execution_count": 148,
   "metadata": {},
   "outputs": [
    {
     "name": "stdout",
     "output_type": "stream",
     "text": [
      "You're interested in learning about Lauren Eichler. She is currently the Assistant Director for Advisor Education and Training in the Office of Academic Advising at the University of Oregon.\n",
      "\n",
      "Lauren Eichler has an extensive academic background, having grown up in Baltimore, MD. She earned her PhD in Philosophy from the University of Oregon after spending a decade in higher education and research. Her areas of interest in philosophy include environmental ethics, genocide studies, and Native American philosophies. Before returning to UO, she taught philosophy at Old Dominion University and served as the Director of Assessment in their Department of Philosophy and Religious Studies. \n",
      "\n",
      "In her role at UO, Lauren is deeply committed to mentoring students and guiding them in their academic and professional journeys. She describes advising as a way to engage in meaningful conversations that support students both practically and existentially [1] [2].\n",
      "\n",
      "If you'd like to know more about her work or the Office of Academic Advising, you can visit their website here: [UO Academic Advising](https://advising.uoregon.edu/-lauren-eichler).\n",
      "[1] https://advising.uoregon.edu/-lauren-eichler\n",
      "[2] https://advising.uoregon.edu/staff-directory#Leadership"
     ]
    }
   ],
   "source": [
    "import time\n",
    "\n",
    "formatted_string = message_content.value\n",
    "delay = 0.01  # delay in seconds\n",
    "\n",
    "for char in formatted_string:\n",
    "    print(char, end='', flush=True)\n",
    "    time.sleep(delay)"
   ]
  }
 ],
 "metadata": {
  "kernelspec": {
   "display_name": "Python 3",
   "language": "python",
   "name": "python3"
  },
  "language_info": {
   "codemirror_mode": {
    "name": "ipython",
    "version": 3
   },
   "file_extension": ".py",
   "mimetype": "text/x-python",
   "name": "python",
   "nbconvert_exporter": "python",
   "pygments_lexer": "ipython3",
   "version": "3.10.16"
  }
 },
 "nbformat": 4,
 "nbformat_minor": 2
}
