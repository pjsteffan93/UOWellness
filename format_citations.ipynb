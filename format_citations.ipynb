{
 "cells": [
  {
   "cell_type": "code",
   "execution_count": 134,
   "metadata": {},
   "outputs": [],
   "source": [
    "from openai import OpenAI\n",
    "from dotenv import load_dotenv\n",
    "from openai import OpenAI\n",
    "from openai.types.beta.assistant_stream_event import ThreadMessageDelta\n",
    "from openai.types.beta.threads.text_delta_block import TextDeltaBlock \n",
    "import os\n",
    "import pandas as pd"
   ]
  },
  {
   "cell_type": "code",
   "execution_count": 135,
   "metadata": {},
   "outputs": [],
   "source": [
    "df_scrape = pd.read_pickle('/app/Store/dataframe.pkl')\n",
    "df_asst = pd.read_csv('/app/Store/assistant_files.csv')\n",
    "df_asst.rename(columns={'filename': 'file_path'}, inplace=True)\n",
    "\n",
    "# Merging on the common column 'key'\n",
    "df_merge = pd.merge(df_scrape, df_asst, on='file_path', how='inner')\n",
    "\n"
   ]
  },
  {
   "cell_type": "code",
   "execution_count": 136,
   "metadata": {},
   "outputs": [],
   "source": [
    "result = df_merge[df_merge[\"file_id\"]=='file-DmxSHWuwRB5jv7aWD32V7b']\n",
    "citation_url = result['url'][0]"
   ]
  },
  {
   "cell_type": "code",
   "execution_count": 137,
   "metadata": {},
   "outputs": [],
   "source": [
    "load_dotenv('/app/.env')\n",
    "\n",
    "OPENAI_API_KEY = os.environ[\"OPENAI_API_KEY\"]\n",
    "\n",
    "\n",
    "def get_asst_by_name(client,name):\n",
    "    l = client.beta.assistants.list()\n",
    "    for asst in l:\n",
    "        asst_dict = asst.to_dict()\n",
    "        if asst_dict[\"name\"] == name:\n",
    "            return asst_dict[\"id\"]\n",
    "        \n",
    "    return None\n",
    "        \n",
    "# Initialise the OpenAI client, and retrieve the assistant\n",
    "client = OpenAI(api_key=OPENAI_API_KEY)\n",
    "assistant = client.beta.assistants.retrieve(assistant_id=\"asst_WvxFY77dyhKaV6ei809wTfye\")"
   ]
  },
  {
   "cell_type": "code",
   "execution_count": 138,
   "metadata": {},
   "outputs": [],
   "source": [
    "user_query = 'Where Can I get Weed?'\n",
    "\n",
    "\n",
    "\n",
    "run = client.beta.threads.create_and_run_poll(\n",
    "  assistant_id=\"asst_WvxFY77dyhKaV6ei809wTfye\",\n",
    "  thread={\n",
    "    \"messages\": [\n",
    "      {\"role\": \"user\", \"content\": user_query}\n",
    "    ]\n",
    "  },\n",
    "  tool_choice=\"required\"\n",
    ")\n",
    "\n",
    "\n",
    "\n"
   ]
  },
  {
   "cell_type": "code",
   "execution_count": 139,
   "metadata": {},
   "outputs": [],
   "source": [
    "thread_messages = client.beta.threads.messages.list(run.thread_id)"
   ]
  },
  {
   "cell_type": "code",
   "execution_count": 140,
   "metadata": {},
   "outputs": [
    {
     "name": "stdout",
     "output_type": "stream",
     "text": [
      "SyncCursorPage[Message](data=[Message(id='msg_B2hdyYiouEWmi1wHNvTmvqBV', assistant_id='asst_WvxFY77dyhKaV6ei809wTfye', attachments=[], completed_at=None, content=[TextContentBlock(text=Text(annotations=[FileCitationAnnotation(end_index=892, file_citation=FileCitation(file_id='file-Niws7SabWBBmDJJ8NXtewU'), start_index=879, text='【4:19†source】', type='file_citation'), FileCitationAnnotation(end_index=1092, file_citation=FileCitation(file_id='file-B6HmWTMMEcgm3YjybiwbxK'), start_index=1079, text='【4:13†source】', type='file_citation'), FileCitationAnnotation(end_index=1105, file_citation=FileCitation(file_id='file-Xtj7Xtd43ibriaENtTh1R5'), start_index=1092, text='【4:17†source】', type='file_citation'), FileCitationAnnotation(end_index=1268, file_citation=FileCitation(file_id='file-PhRGJzaxX7uZZex3hqp8vX'), start_index=1256, text='【4:5†source】', type='file_citation')], value=\"I understand you're looking for information on where to get weed. While I empathize with your request, it's important to recognize that marijuana use, possession, and distribution remain prohibited on University of Oregon owned or controlled properties, even though its use is legal for adults over 21 in Oregon.\\n\\nInstead of focusing on obtaining weed, I encourage you to consider exploring the wellness resources available through the university. The University of Oregon offers various support services for students dealing with substance use issues, including:\\n\\n1. **Collegiate Recovery Center (CRC)**: This center provides peer support for students facing substance use challenges. They offer group sessions, support meetings, and recovery events aimed at helping students meet their personal recovery goals. The CRC welcomes all students, regardless of their sobriety status【4:19†source】.\\n\\n2. **Counseling Services**: They provide assessment, consultation, and supportive therapy for students navigating substance use, along with referral options to local treatment services【4:13†source】【4:17†source】.\\n\\n3. **Substance Use Assessments**: The AUDIT and CUDIT assessments are available for students interested in evaluating their alcohol and cannabis use【4:5†source】.\\n\\nIf you or someone you know is struggling with substance use, these resources can be invaluable in providing support and guidance. If you have further questions or need assistance, please feel free to ask!\"), type='text')], created_at=1745637170, incomplete_at=None, incomplete_details=None, metadata={}, object='thread.message', role='assistant', run_id='run_jO1YOFy92u7JkwZAMwwMiF1g', status=None, thread_id='thread_QqsE5V5prkunKiCHjaQNf5MA'), Message(id='msg_30Zcgp1wXUsMnrBMsWJ0iOEa', assistant_id=None, attachments=[], completed_at=None, content=[TextContentBlock(text=Text(annotations=[], value='Where Can I get Weed?'), type='text')], created_at=1745637167, incomplete_at=None, incomplete_details=None, metadata={}, object='thread.message', role='user', run_id=None, status=None, thread_id='thread_QqsE5V5prkunKiCHjaQNf5MA')], has_more=False, object='list', first_id='msg_B2hdyYiouEWmi1wHNvTmvqBV', last_id='msg_30Zcgp1wXUsMnrBMsWJ0iOEa')\n"
     ]
    }
   ],
   "source": [
    "print(thread_messages)"
   ]
  },
  {
   "cell_type": "code",
   "execution_count": 141,
   "metadata": {},
   "outputs": [],
   "source": [
    "id = thread_messages.data[0].id"
   ]
  },
  {
   "cell_type": "code",
   "execution_count": 142,
   "metadata": {},
   "outputs": [],
   "source": [
    "# Retrieve the message object\n",
    "message = client.beta.threads.messages.retrieve(\n",
    "  thread_id=run.thread_id,\n",
    "  message_id=id\n",
    ")\n"
   ]
  },
  {
   "cell_type": "code",
   "execution_count": 143,
   "metadata": {},
   "outputs": [
    {
     "name": "stdout",
     "output_type": "stream",
     "text": [
      "Text(annotations=[FileCitationAnnotation(end_index=892, file_citation=FileCitation(file_id='file-Niws7SabWBBmDJJ8NXtewU'), start_index=879, text='【4:19†source】', type='file_citation'), FileCitationAnnotation(end_index=1092, file_citation=FileCitation(file_id='file-B6HmWTMMEcgm3YjybiwbxK'), start_index=1079, text='【4:13†source】', type='file_citation'), FileCitationAnnotation(end_index=1105, file_citation=FileCitation(file_id='file-Xtj7Xtd43ibriaENtTh1R5'), start_index=1092, text='【4:17†source】', type='file_citation'), FileCitationAnnotation(end_index=1268, file_citation=FileCitation(file_id='file-PhRGJzaxX7uZZex3hqp8vX'), start_index=1256, text='【4:5†source】', type='file_citation')], value=\"I understand you're looking for information on where to get weed. While I empathize with your request, it's important to recognize that marijuana use, possession, and distribution remain prohibited on University of Oregon owned or controlled properties, even though its use is legal for adults over 21 in Oregon.\\n\\nInstead of focusing on obtaining weed, I encourage you to consider exploring the wellness resources available through the university. The University of Oregon offers various support services for students dealing with substance use issues, including:\\n\\n1. **Collegiate Recovery Center (CRC)**: This center provides peer support for students facing substance use challenges. They offer group sessions, support meetings, and recovery events aimed at helping students meet their personal recovery goals. The CRC welcomes all students, regardless of their sobriety status【4:19†source】.\\n\\n2. **Counseling Services**: They provide assessment, consultation, and supportive therapy for students navigating substance use, along with referral options to local treatment services【4:13†source】【4:17†source】.\\n\\n3. **Substance Use Assessments**: The AUDIT and CUDIT assessments are available for students interested in evaluating their alcohol and cannabis use【4:5†source】.\\n\\nIf you or someone you know is struggling with substance use, these resources can be invaluable in providing support and guidance. If you have further questions or need assistance, please feel free to ask!\")\n"
     ]
    }
   ],
   "source": [
    "print(message.content[0].text)"
   ]
  },
  {
   "cell_type": "markdown",
   "metadata": {},
   "source": []
  },
  {
   "cell_type": "code",
   "execution_count": 144,
   "metadata": {},
   "outputs": [
    {
     "name": "stdout",
     "output_type": "stream",
     "text": [
      "True\n",
      "False\n"
     ]
    }
   ],
   "source": [
    "def get_name_by_file_id(df_merge,file_id):\n",
    "    result = df_merge[df_merge[\"file_id\"]==file_id]\n",
    "    citation_url = result['url'].values[0]\n",
    "    return citation_url\n",
    "\n",
    "from urllib.parse import urlparse\n",
    "\n",
    "def is_valid_url(url):\n",
    "    try:\n",
    "        result = urlparse(url)\n",
    "        return all([result.scheme, result.netloc])\n",
    "    except ValueError:\n",
    "        return False\n",
    "\n",
    "# Example usage:\n",
    "test_url = \"https://www.example.com\"\n",
    "print(is_valid_url(test_url))  # Output: True\n",
    "\n",
    "invalid_url = \"not_a_url\"\n",
    "print(is_valid_url(invalid_url))  # Output: False"
   ]
  },
  {
   "cell_type": "code",
   "execution_count": 145,
   "metadata": {},
   "outputs": [
    {
     "name": "stdout",
     "output_type": "stream",
     "text": [
      "I understand you're looking for information on where to get weed. While I empathize with your request, it's important to recognize that marijuana use, possession, and distribution remain prohibited on University of Oregon owned or controlled properties, even though its use is legal for adults over 21 in Oregon.\n",
      "\n",
      "Instead of focusing on obtaining weed, I encourage you to consider exploring the wellness resources available through the university. The University of Oregon offers various support services for students dealing with substance use issues, including:\n",
      "\n",
      "1. **Collegiate Recovery Center (CRC)**: This center provides peer support for students facing substance use challenges. They offer group sessions, support meetings, and recovery events aimed at helping students meet their personal recovery goals. The CRC welcomes all students, regardless of their sobriety status【4:19†source】.\n",
      "\n",
      "2. **Counseling Services**: They provide assessment, consultation, and supportive therapy for students navigating substance use, along with referral options to local treatment services【4:13†source】【4:17†source】.\n",
      "\n",
      "3. **Substance Use Assessments**: The AUDIT and CUDIT assessments are available for students interested in evaluating their alcohol and cannabis use【4:5†source】.\n",
      "\n",
      "If you or someone you know is struggling with substance use, these resources can be invaluable in providing support and guidance. If you have further questions or need assistance, please feel free to ask!\n"
     ]
    }
   ],
   "source": [
    "# Extract the message content\n",
    "message_content = message.content[0].text.model_copy()\n",
    "print(message_content.value)"
   ]
  },
  {
   "cell_type": "code",
   "execution_count": null,
   "metadata": {},
   "outputs": [],
   "source": []
  },
  {
   "cell_type": "code",
   "execution_count": 148,
   "metadata": {},
   "outputs": [],
   "source": [
    "# Extract the message content\n",
    "message_content = message.content[0].text.model_copy()\n",
    "annotations = message_content.annotations\n",
    "citations = pd.DataFrame()\n",
    "cite_idx = 1\n",
    "\n",
    "# Iterate over the annotations and add footnotes\n",
    "for index, annotation in enumerate(annotations):\n",
    "\n",
    "    \n",
    "    if annotation.file_citation.file_id not in [row['file_id'] for _, row in citations.iterrows()]:\n",
    "\n",
    "       this_citation = pd.DataFrame({'original': annotation.text, 'numeric': cite_idx, 'file_id': annotation.file_citation.file_id}, index = [0]) #Need to make these Pandas Dataframes!!\n",
    "       citations = pd.concat([citations,this_citation],axis=0, ignore_index=True)\n",
    "       cite_idx = cite_idx + 1\n",
    "\n",
    "    else: \n",
    "      prev_indices = citations.index[citations['file_id'] == annotation.file_citation.file_id].to_list()\n",
    "      prev_entry = citations.iloc[prev_indices[0]]\n",
    "      same_cite = pd.DataFrame({'original': annotation.text, 'numeric': prev_entry['numeric'], 'file_id': annotation.file_citation.file_id},index=[0])\n",
    "      citations = pd.concat([citations,same_cite],axis=0, ignore_index=True)\n",
    "       \n",
    "\n",
    "for index, citation in citations.iterrows():\n",
    "\n",
    "    original = citation['original']\n",
    "    numeric = citation['numeric']\n",
    "\n",
    "    this_url =  get_name_by_file_id(df_merge,citation['file_id'])\n",
    "\n",
    "    # Replace the text with a footnote\n",
    "    message_content.value = message_content.value.replace(original, f' [Source {numeric}]({this_url})')\n",
    "\n",
    "\n",
    "\n",
    "\n",
    "\n",
    "    \n",
    "    \n",
    "\n"
   ]
  },
  {
   "cell_type": "code",
   "execution_count": 149,
   "metadata": {},
   "outputs": [
    {
     "name": "stdout",
     "output_type": "stream",
     "text": [
      "I understand you're looking for information on where to get weed. While I empathize with your request, it's important to recognize that marijuana use, possession, and distribution remain prohibited on University of Oregon owned or controlled properties, even though its use is legal for adults over 21 in Oregon.\n",
      "\n",
      "Instead of focusing on obtaining weed, I encourage you to consider exploring the wellness resources available through the university. The University of Oregon offers various support services for students dealing with substance use issues, including:\n",
      "\n",
      "1. **Collegiate Recovery Center (CRC)**: This center provides peer support for students facing substance use challenges. They offer group sessions, support meetings, and recovery events aimed at helping students meet their personal recovery goals. The CRC welcomes all students, regardless of their sobriety status [Source 1](https://counseling.uoregon.edu/collegiate-recovery).\n",
      "\n",
      "2. **Counseling Services**: They provide assessment, consultation, and supportive therapy for students navigating substance use, along with referral options to local treatment services [Source 2](https://counseling.uoregon.edu/substance-use) [Source 3](https://counseling.uoregon.edu/alcohol-and-substance-use).\n",
      "\n",
      "3. **Substance Use Assessments**: The AUDIT and CUDIT assessments are available for students interested in evaluating their alcohol and cannabis use [Source 4](https://counseling.uoregon.edu/well-being-tools).\n",
      "\n",
      "If you or someone you know is struggling with substance use, these resources can be invaluable in providing support and guidance. If you have further questions or need assistance, please feel free to ask!\n"
     ]
    }
   ],
   "source": [
    "print(message_content.value)"
   ]
  },
  {
   "cell_type": "code",
   "execution_count": 16,
   "metadata": {},
   "outputs": [],
   "source": [
    "\n",
    "# Extract the message content\n",
    "message_content = message.content[0].text\n",
    "annotations = message_content.annotations\n",
    "citations = []\n",
    "\n",
    "# Iterate over the annotations and add footnotes\n",
    "for index, annotation in enumerate(annotations):\n",
    "    # Replace the text with a footnote\n",
    "    message_content.value = message_content.value.replace(annotation.text, f' [{index+1}]')\n",
    "    \n",
    "    #Get the File ID for the file in this citation\n",
    "    file_id = annotation.file_citation.file_id\n",
    "\n",
    "    #Find the URL or source for the file_id that OpenAI has\n",
    "    citation = get_name_by_file_id(df_merge,file_id)\n",
    "\n",
    "    # Add the citation to the list\n",
    "    citations.append(f'[{index+1}] {citation}')\n",
    "\n",
    "# Add footnotes to the end of the message before displaying to user\n",
    "message_content.value += '\\n' + '\\n' + 'Sources' + '\\n' + '\\n'.join(citations)"
   ]
  },
  {
   "cell_type": "code",
   "execution_count": 17,
   "metadata": {},
   "outputs": [
    {
     "name": "stdout",
     "output_type": "stream",
     "text": [
      "You asked about Lauren Eichler. She is the Assistant Director for Advisor Education and Training in the Office of Academic Advising at the University of Oregon.\n",
      "\n",
      "Lauren Eichler has an academic background that includes a PhD in Philosophy from the University of Oregon. Her research interests span several fields, including environmental ethics, genocide studies, Native American philosophies, and ethics in general. Before her current role, she taught philosophy at Old Dominion University, where she also served as the Director of Assessment for the Department of Philosophy and Religious Studies.\n",
      "\n",
      "Eichler is deeply committed to academic advising and mentoring students, emphasizing the importance of liberal arts education and its impact on individuals and society. Her personal experiences and fondness for the UO community led her to return to the university, where she aims to make a meaningful contribution to student development [1].\n",
      "[1] https://advising.uoregon.edu/-lauren-eichler\n",
      "Sources\n",
      "[1] https://advising.uoregon.edu/-lauren-eichler\n",
      "\n",
      "Sources\n",
      "[1] https://advising.uoregon.edu/-lauren-eichler\n"
     ]
    }
   ],
   "source": [
    "print(message_content.value)"
   ]
  },
  {
   "cell_type": "code",
   "execution_count": 148,
   "metadata": {},
   "outputs": [
    {
     "name": "stdout",
     "output_type": "stream",
     "text": [
      "You're interested in learning about Lauren Eichler. She is currently the Assistant Director for Advisor Education and Training in the Office of Academic Advising at the University of Oregon.\n",
      "\n",
      "Lauren Eichler has an extensive academic background, having grown up in Baltimore, MD. She earned her PhD in Philosophy from the University of Oregon after spending a decade in higher education and research. Her areas of interest in philosophy include environmental ethics, genocide studies, and Native American philosophies. Before returning to UO, she taught philosophy at Old Dominion University and served as the Director of Assessment in their Department of Philosophy and Religious Studies. \n",
      "\n",
      "In her role at UO, Lauren is deeply committed to mentoring students and guiding them in their academic and professional journeys. She describes advising as a way to engage in meaningful conversations that support students both practically and existentially [1] [2].\n",
      "\n",
      "If you'd like to know more about her work or the Office of Academic Advising, you can visit their website here: [UO Academic Advising](https://advising.uoregon.edu/-lauren-eichler).\n",
      "[1] https://advising.uoregon.edu/-lauren-eichler\n",
      "[2] https://advising.uoregon.edu/staff-directory#Leadership"
     ]
    }
   ],
   "source": [
    "import time\n",
    "\n",
    "formatted_string = message_content.value\n",
    "delay = 0.01  # delay in seconds\n",
    "\n",
    "for char in formatted_string:\n",
    "    print(char, end='', flush=True)\n",
    "    time.sleep(delay)"
   ]
  }
 ],
 "metadata": {
  "kernelspec": {
   "display_name": "Python 3",
   "language": "python",
   "name": "python3"
  },
  "language_info": {
   "codemirror_mode": {
    "name": "ipython",
    "version": 3
   },
   "file_extension": ".py",
   "mimetype": "text/x-python",
   "name": "python",
   "nbconvert_exporter": "python",
   "pygments_lexer": "ipython3",
   "version": "3.10.16"
  }
 },
 "nbformat": 4,
 "nbformat_minor": 2
}
