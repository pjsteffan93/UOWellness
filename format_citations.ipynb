{
 "cells": [
  {
   "cell_type": "code",
   "execution_count": 1,
   "metadata": {},
   "outputs": [],
   "source": [
    "from openai import OpenAI\n",
    "from dotenv import load_dotenv\n",
    "from openai import OpenAI\n",
    "from openai.types.beta.assistant_stream_event import ThreadMessageDelta\n",
    "from openai.types.beta.threads.text_delta_block import TextDeltaBlock \n",
    "import os\n",
    "import pandas as pd"
   ]
  },
  {
   "cell_type": "code",
   "execution_count": 2,
   "metadata": {},
   "outputs": [],
   "source": [
    "df_scrape = pd.read_pickle('/app/Store/dataframe.pkl')\n",
    "df_asst = pd.read_csv('/app/Store/assistant_files.csv')\n",
    "df_asst.rename(columns={'filename': 'file_path'}, inplace=True)\n",
    "\n",
    "# Merging on the common column 'key'\n",
    "df_merge = pd.merge(df_scrape, df_asst, on='file_path', how='inner')\n",
    "\n"
   ]
  },
  {
   "cell_type": "code",
   "execution_count": 3,
   "metadata": {},
   "outputs": [],
   "source": [
    "result = df_merge[df_merge[\"file_id\"]=='file-DmxSHWuwRB5jv7aWD32V7b']\n",
    "citation_url = result['url'][0]"
   ]
  },
  {
   "cell_type": "code",
   "execution_count": 4,
   "metadata": {},
   "outputs": [],
   "source": [
    "load_dotenv('/app/.env')\n",
    "\n",
    "OPENAI_API_KEY = os.environ[\"OPENAI_API_KEY\"]\n",
    "\n",
    "\n",
    "def get_asst_by_name(client,name):\n",
    "    l = client.beta.assistants.list()\n",
    "    for asst in l:\n",
    "        asst_dict = asst.to_dict()\n",
    "        if asst_dict[\"name\"] == name:\n",
    "            return asst_dict[\"id\"]\n",
    "        \n",
    "    return None\n",
    "        \n",
    "# Initialise the OpenAI client, and retrieve the assistant\n",
    "client = OpenAI(api_key=OPENAI_API_KEY)\n",
    "assistant = client.beta.assistants.retrieve(assistant_id=\"asst_WvxFY77dyhKaV6ei809wTfye\")"
   ]
  },
  {
   "cell_type": "code",
   "execution_count": 5,
   "metadata": {},
   "outputs": [],
   "source": [
    "user_query = 'Who is Lauren Eichler?'\n",
    "\n",
    "\n",
    "\n",
    "run = client.beta.threads.create_and_run_poll(\n",
    "  assistant_id=\"asst_WvxFY77dyhKaV6ei809wTfye\",\n",
    "  thread={\n",
    "    \"messages\": [\n",
    "      {\"role\": \"user\", \"content\": user_query}\n",
    "    ]\n",
    "  },\n",
    "  tool_choice=\"required\"\n",
    ")\n",
    "\n",
    "\n",
    "\n"
   ]
  },
  {
   "cell_type": "code",
   "execution_count": 6,
   "metadata": {},
   "outputs": [],
   "source": [
    "thread_messages = client.beta.threads.messages.list(run.thread_id)"
   ]
  },
  {
   "cell_type": "code",
   "execution_count": 7,
   "metadata": {},
   "outputs": [
    {
     "name": "stdout",
     "output_type": "stream",
     "text": [
      "SyncCursorPage[Message](data=[Message(id='msg_IFJhcRkM8SArQVB1LiTzfloZ', assistant_id='asst_WvxFY77dyhKaV6ei809wTfye', attachments=[], completed_at=None, content=[TextContentBlock(text=Text(annotations=[FileCitationAnnotation(end_index=948, file_citation=FileCitation(file_id='file-EvUBvU8FUS3KmfpVHmimFs'), start_index=936, text='【4:0†source】', type='file_citation')], value='You asked about Lauren Eichler. She is the Assistant Director for Advisor Education and Training in the Office of Academic Advising at the University of Oregon.\\n\\nLauren Eichler has an academic background that includes a PhD in Philosophy from the University of Oregon. Her research interests span several fields, including environmental ethics, genocide studies, Native American philosophies, and ethics in general. Before her current role, she taught philosophy at Old Dominion University, where she also served as the Director of Assessment for the Department of Philosophy and Religious Studies.\\n\\nEichler is deeply committed to academic advising and mentoring students, emphasizing the importance of liberal arts education and its impact on individuals and society. Her personal experiences and fondness for the UO community led her to return to the university, where she aims to make a meaningful contribution to student development【4:0†source】.'), type='text')], created_at=1744597980, incomplete_at=None, incomplete_details=None, metadata={}, object='thread.message', role='assistant', run_id='run_ZIR18cDx39S4lnlDzzFxB7C7', status=None, thread_id='thread_C8v0i2bvdz2McK2MDkRKqz9Y'), Message(id='msg_98Quo5BtZjbHWtl18t2bOtb6', assistant_id=None, attachments=[], completed_at=None, content=[TextContentBlock(text=Text(annotations=[], value='Who is Lauren Eichler?'), type='text')], created_at=1744597976, incomplete_at=None, incomplete_details=None, metadata={}, object='thread.message', role='user', run_id=None, status=None, thread_id='thread_C8v0i2bvdz2McK2MDkRKqz9Y')], has_more=False, object='list', first_id='msg_IFJhcRkM8SArQVB1LiTzfloZ', last_id='msg_98Quo5BtZjbHWtl18t2bOtb6')\n"
     ]
    }
   ],
   "source": [
    "print(thread_messages)"
   ]
  },
  {
   "cell_type": "code",
   "execution_count": 8,
   "metadata": {},
   "outputs": [],
   "source": [
    "id = thread_messages.data[0].id"
   ]
  },
  {
   "cell_type": "code",
   "execution_count": 9,
   "metadata": {},
   "outputs": [],
   "source": [
    "# Retrieve the message object\n",
    "message = client.beta.threads.messages.retrieve(\n",
    "  thread_id=run.thread_id,\n",
    "  message_id=id\n",
    ")\n"
   ]
  },
  {
   "cell_type": "code",
   "execution_count": 10,
   "metadata": {},
   "outputs": [
    {
     "name": "stdout",
     "output_type": "stream",
     "text": [
      "Text(annotations=[FileCitationAnnotation(end_index=948, file_citation=FileCitation(file_id='file-EvUBvU8FUS3KmfpVHmimFs'), start_index=936, text='【4:0†source】', type='file_citation')], value='You asked about Lauren Eichler. She is the Assistant Director for Advisor Education and Training in the Office of Academic Advising at the University of Oregon.\\n\\nLauren Eichler has an academic background that includes a PhD in Philosophy from the University of Oregon. Her research interests span several fields, including environmental ethics, genocide studies, Native American philosophies, and ethics in general. Before her current role, she taught philosophy at Old Dominion University, where she also served as the Director of Assessment for the Department of Philosophy and Religious Studies.\\n\\nEichler is deeply committed to academic advising and mentoring students, emphasizing the importance of liberal arts education and its impact on individuals and society. Her personal experiences and fondness for the UO community led her to return to the university, where she aims to make a meaningful contribution to student development【4:0†source】.')\n"
     ]
    }
   ],
   "source": [
    "print(message.content[0].text)"
   ]
  },
  {
   "cell_type": "markdown",
   "metadata": {},
   "source": []
  },
  {
   "cell_type": "code",
   "execution_count": 11,
   "metadata": {},
   "outputs": [],
   "source": [
    "def get_name_by_file_id(df_merge,file_id):\n",
    "    result = df_merge[df_merge[\"file_id\"]==file_id]\n",
    "    citation_url = result['url'].values[0]\n",
    "    return citation_url"
   ]
  },
  {
   "cell_type": "code",
   "execution_count": 16,
   "metadata": {},
   "outputs": [],
   "source": [
    "\n",
    "# Extract the message content\n",
    "message_content = message.content[0].text\n",
    "annotations = message_content.annotations\n",
    "citations = []\n",
    "\n",
    "# Iterate over the annotations and add footnotes\n",
    "for index, annotation in enumerate(annotations):\n",
    "    # Replace the text with a footnote\n",
    "    message_content.value = message_content.value.replace(annotation.text, f' [{index+1}]')\n",
    "    \n",
    "    #Get the File ID for the file in this citation\n",
    "    file_id = annotation.file_citation.file_id\n",
    "\n",
    "    #Find the URL or source for the file_id that OpenAI has\n",
    "    citation = get_name_by_file_id(df_merge,file_id)\n",
    "\n",
    "    # Add the citation to the list\n",
    "    citations.append(f'[{index+1}] {citation}')\n",
    "\n",
    "# Add footnotes to the end of the message before displaying to user\n",
    "message_content.value += '\\n' + '\\n' + 'Sources' + '\\n' + '\\n'.join(citations)"
   ]
  },
  {
   "cell_type": "code",
   "execution_count": 17,
   "metadata": {},
   "outputs": [
    {
     "name": "stdout",
     "output_type": "stream",
     "text": [
      "You asked about Lauren Eichler. She is the Assistant Director for Advisor Education and Training in the Office of Academic Advising at the University of Oregon.\n",
      "\n",
      "Lauren Eichler has an academic background that includes a PhD in Philosophy from the University of Oregon. Her research interests span several fields, including environmental ethics, genocide studies, Native American philosophies, and ethics in general. Before her current role, she taught philosophy at Old Dominion University, where she also served as the Director of Assessment for the Department of Philosophy and Religious Studies.\n",
      "\n",
      "Eichler is deeply committed to academic advising and mentoring students, emphasizing the importance of liberal arts education and its impact on individuals and society. Her personal experiences and fondness for the UO community led her to return to the university, where she aims to make a meaningful contribution to student development [1].\n",
      "[1] https://advising.uoregon.edu/-lauren-eichler\n",
      "Sources\n",
      "[1] https://advising.uoregon.edu/-lauren-eichler\n",
      "\n",
      "Sources\n",
      "[1] https://advising.uoregon.edu/-lauren-eichler\n"
     ]
    }
   ],
   "source": [
    "print(message_content.value)"
   ]
  },
  {
   "cell_type": "code",
   "execution_count": 148,
   "metadata": {},
   "outputs": [
    {
     "name": "stdout",
     "output_type": "stream",
     "text": [
      "You're interested in learning about Lauren Eichler. She is currently the Assistant Director for Advisor Education and Training in the Office of Academic Advising at the University of Oregon.\n",
      "\n",
      "Lauren Eichler has an extensive academic background, having grown up in Baltimore, MD. She earned her PhD in Philosophy from the University of Oregon after spending a decade in higher education and research. Her areas of interest in philosophy include environmental ethics, genocide studies, and Native American philosophies. Before returning to UO, she taught philosophy at Old Dominion University and served as the Director of Assessment in their Department of Philosophy and Religious Studies. \n",
      "\n",
      "In her role at UO, Lauren is deeply committed to mentoring students and guiding them in their academic and professional journeys. She describes advising as a way to engage in meaningful conversations that support students both practically and existentially [1] [2].\n",
      "\n",
      "If you'd like to know more about her work or the Office of Academic Advising, you can visit their website here: [UO Academic Advising](https://advising.uoregon.edu/-lauren-eichler).\n",
      "[1] https://advising.uoregon.edu/-lauren-eichler\n",
      "[2] https://advising.uoregon.edu/staff-directory#Leadership"
     ]
    }
   ],
   "source": [
    "import time\n",
    "\n",
    "formatted_string = message_content.value\n",
    "delay = 0.01  # delay in seconds\n",
    "\n",
    "for char in formatted_string:\n",
    "    print(char, end='', flush=True)\n",
    "    time.sleep(delay)"
   ]
  }
 ],
 "metadata": {
  "kernelspec": {
   "display_name": "Python 3",
   "language": "python",
   "name": "python3"
  },
  "language_info": {
   "codemirror_mode": {
    "name": "ipython",
    "version": 3
   },
   "file_extension": ".py",
   "mimetype": "text/x-python",
   "name": "python",
   "nbconvert_exporter": "python",
   "pygments_lexer": "ipython3",
   "version": "3.10.16"
  }
 },
 "nbformat": 4,
 "nbformat_minor": 2
}
