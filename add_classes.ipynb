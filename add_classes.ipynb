{
 "cells": [
  {
   "cell_type": "code",
   "execution_count": 1,
   "id": "a2111fc4",
   "metadata": {},
   "outputs": [],
   "source": [
    "from openai import OpenAI\n",
    "from dotenv import load_dotenv\n",
    "from openai import OpenAI\n",
    "from openai.types.beta.assistant_stream_event import ThreadMessageDelta\n",
    "from openai.types.beta.threads.text_delta_block import TextDeltaBlock \n",
    "import os\n",
    "import pandas as pd\n",
    "from tqdm import tqdm\n",
    "import pickle"
   ]
  },
  {
   "cell_type": "code",
   "execution_count": 2,
   "id": "acfe4f21",
   "metadata": {},
   "outputs": [],
   "source": [
    "df_scrape = pd.read_pickle('/app/Store/dataframe.pkl')\n",
    "df_asst = pd.read_csv('/app/Store/assistant_files.csv')\n",
    "\n",
    "df_asst.rename(columns={'filename': 'file_path'}, inplace=True)\n",
    "\n",
    "# Merging on the common column 'key'\n",
    "df_merge = pd.merge(df_scrape, df_asst, on='file_path', how='inner')"
   ]
  },
  {
   "cell_type": "code",
   "execution_count": 3,
   "id": "d098f88f",
   "metadata": {},
   "outputs": [],
   "source": [
    "import os\n",
    "import glob\n",
    "from tqdm import tqdm\n",
    "from openai import OpenAI\n",
    "\n",
    "# Initialize your client\n",
    "client = OpenAI()\n",
    "\n",
    "# Define folder path\n",
    "folder_path = '/app/UO Wellness Classes/'\n",
    "\n",
    "# Extend the path to include only .txt files\n",
    "txt_files = glob.glob(os.path.join(folder_path, '*.txt'))\n"
   ]
  },
  {
   "cell_type": "code",
   "execution_count": 4,
   "id": "52ebf9e7",
   "metadata": {},
   "outputs": [
    {
     "name": "stderr",
     "output_type": "stream",
     "text": [
      "100%|██████████| 11/11 [00:06<00:00,  1.63it/s]\n"
     ]
    }
   ],
   "source": [
    "\n",
    "\n",
    "file_ids = []\n",
    "\n",
    "# Iterate through the text files and upload\n",
    "for txt_file in tqdm(txt_files):\n",
    "    try:\n",
    "        with open(txt_file, 'rb') as file:\n",
    "            upload_file = client.files.create(\n",
    "                file=file,\n",
    "                purpose='assistants'\n",
    "            )\n",
    "            file_ids.append(upload_file.id)\n",
    "    except Exception as e:\n",
    "        print(f\"Error uploading file {txt_file}: {e}\")\n"
   ]
  },
  {
   "cell_type": "code",
   "execution_count": 14,
   "id": "49a035ba",
   "metadata": {},
   "outputs": [],
   "source": [
    "with open('/app/class_file_ids.pkl', 'wb') as file:\n",
    "    pickle.dump(file_ids,file)"
   ]
  },
  {
   "cell_type": "code",
   "execution_count": 5,
   "id": "0b929310",
   "metadata": {},
   "outputs": [],
   "source": [
    "with open('/app/class_file_ids.pkl', 'rb') as file:\n",
    "   file_ids = pickle.load(file)"
   ]
  },
  {
   "cell_type": "code",
   "execution_count": 9,
   "id": "05a828fe",
   "metadata": {},
   "outputs": [
    {
     "name": "stderr",
     "output_type": "stream",
     "text": [
      "100%|██████████| 11/11 [00:08<00:00,  1.25it/s]\n"
     ]
    }
   ],
   "source": [
    "vector_store_id = 'vs_67dfa578a634819189a0fa80b0f5b470'\n",
    "# Process each uploaded file\n",
    "for file_id in tqdm(file_ids):\n",
    "    try:\n",
    "        batch = client.vector_stores.files.create(\n",
    "            vector_store_id=vector_store_id,\n",
    "            file_id=file_id\n",
    "        )\n",
    "    except Exception as e:\n",
    "        print(f\"Error processing file with ID {file_id}: {e}\")"
   ]
  },
  {
   "cell_type": "code",
   "execution_count": 10,
   "id": "59ce318b",
   "metadata": {},
   "outputs": [],
   "source": [
    "list_of_dicts = []\n",
    "for text_file, file_id in zip(txt_files,file_ids):\n",
    "\n",
    "    entry = {\n",
    "        \"url\":\"https://catalog.uoregon.edu/courses/\" ,\n",
    "        \"text_hash\":\"\",\n",
    "        \"date_accessed\": \"\", \n",
    "        \"file_path\": text_file,\n",
    "        \"file_id\": file_id,\n",
    "        \"vectorstore_id\": vector_store_id , \n",
    "        \"assistant_id\": \"\" ,\n",
    "    }\n",
    "\n",
    "    list_of_dicts.append(entry)\n",
    "\n",
    "classes_df = pd.DataFrame(list_of_dicts)"
   ]
  },
  {
   "cell_type": "code",
   "execution_count": 12,
   "id": "7c49f411",
   "metadata": {},
   "outputs": [],
   "source": [
    "classes_df.to_csv('/app/appdata/classes.csv', index=False)"
   ]
  }
 ],
 "metadata": {
  "kernelspec": {
   "display_name": "Python 3",
   "language": "python",
   "name": "python3"
  },
  "language_info": {
   "codemirror_mode": {
    "name": "ipython",
    "version": 3
   },
   "file_extension": ".py",
   "mimetype": "text/x-python",
   "name": "python",
   "nbconvert_exporter": "python",
   "pygments_lexer": "ipython3",
   "version": "3.10.16"
  }
 },
 "nbformat": 4,
 "nbformat_minor": 5
}
